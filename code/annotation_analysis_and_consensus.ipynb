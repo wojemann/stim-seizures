{
 "cells": [
  {
   "cell_type": "markdown",
   "metadata": {},
   "source": [
    "# Annotation Analysis and Consensus"
   ]
  },
  {
   "cell_type": "markdown",
   "metadata": {},
   "source": [
    "## Imports"
   ]
  },
  {
   "cell_type": "code",
   "execution_count": null,
   "metadata": {},
   "outputs": [],
   "source": [
    "# Standard imports\n",
    "import numpy as np\n",
    "import scipy as sc\n",
    "import pandas as pd\n",
    "import seaborn as sns\n",
    "import matplotlib.pyplot as plt\n",
    "plt.rcParams['image.cmap'] = 'magma'\n",
    "\n",
    "# ML Imports\n",
    "from sklearn.metrics import cohen_kappa_score, f1_score\n",
    "import statsmodels.formula.api as smf\n",
    "\n",
    "\n",
    "# OS imports\n",
    "from os.path import join as ospj\n",
    "from os.path import exists as ospe\n",
    "import sys\n",
    "import itertools\n",
    "\n",
    "from ieeg.auth import Session\n",
    "from utils import load_config, clean_labels, remove_scalp_electrodes, cohens_d, get_rpath, surgical_parcellation\n",
    "sys.path.append('/users/wojemann/iEEG_processing')\n"
   ]
  },
  {
   "cell_type": "code",
   "execution_count": 3,
   "metadata": {},
   "outputs": [],
   "source": [
    "usr,passpath,datapath,prodatapath,metapath,figpath,patient_table,rid_hup,pt_list = load_config(ospj('/mnt/leif/littlab/users/wojemann/stim-seizures/code','config.json'))"
   ]
  },
  {
   "cell_type": "code",
   "execution_count": null,
   "metadata": {},
   "outputs": [],
   "source": []
  },
  {
   "attachments": {},
   "cell_type": "markdown",
   "metadata": {},
   "source": [
    "## Workspace Preparation"
   ]
  },
  {
   "cell_type": "code",
   "execution_count": 4,
   "metadata": {},
   "outputs": [],
   "source": [
    "# Loading seizure onset meta data\n",
    "sz_metadata = pd.read_csv(ospj(metapath,'stim_seizure_information - LF_seizure_annotation.csv'))\n",
    "sz_metadata.drop(['Notes','Summaries'],axis=1,inplace=True)\n",
    "# sz_metadata.replace({np.nan:pd.NA},inplace=True)"
   ]
  },
  {
   "cell_type": "code",
   "execution_count": 5,
   "metadata": {},
   "outputs": [],
   "source": [
    "# Setting plotting parameters\n",
    "plt.rcParams['xtick.labelsize'] = 14\n",
    "plt.rcParams['ytick.labelsize'] = 14\n",
    "plt.rcParams['axes.linewidth'] = 2\n",
    "plt.rcParams['axes.titlesize'] = 16\n",
    "plt.rcParams['axes.labelsize'] = 14\n",
    "plt.rcParams['lines.linewidth'] = 2\n",
    "\n",
    "plt.rcParams['xtick.major.size'] = 5  # Change to your desired major tick size\n",
    "plt.rcParams['ytick.major.size'] = 5  # Change to your desired major tick size\n",
    "plt.rcParams['xtick.minor.size'] = 3   # Change to your desired minor tick size\n",
    "plt.rcParams['ytick.minor.size'] = 3   # Change to your desired minor tick size\n",
    "\n",
    "plt.rcParams['xtick.major.width'] = 2  # Change to your desired major tick width\n",
    "plt.rcParams['ytick.major.width'] = 2  # Change to your desired major tick width\n",
    "plt.rcParams['xtick.minor.width'] = 1  # Change to your desired minor tick width\n",
    "plt.rcParams['ytick.minor.width'] = 1  # Change to your desired minor tick width"
   ]
  },
  {
   "cell_type": "markdown",
   "metadata": {},
   "source": [
    "## Seizure Annotator Analysis"
   ]
  },
  {
   "cell_type": "markdown",
   "metadata": {},
   "source": [
    "### Preparing annotation table"
   ]
  },
  {
   "cell_type": "code",
   "execution_count": 17,
   "metadata": {},
   "outputs": [],
   "source": [
    "# Combining annotations across a seiuzre at the channel level\n",
    "def combine_ch_annots(group):\n",
    "    ret = {\"clinician\": [],\n",
    "           \"patient\": [],\n",
    "           \"ueo\": [],\n",
    "           \"ueo_time\": [],\n",
    "           \"sec\": []\n",
    "          }\n",
    "    # Sorting seizure annotations by clinician\n",
    "    group.sort_values(by='Clinician',inplace=True)\n",
    "    # Unifying and extracting iEEG name\n",
    "    group['IEEGname'] = group['IEEGname'].fillna(method='ffill').fillna(method='bfill')\n",
    "    ieeg_name = group['IEEGname'].iloc[0]\n",
    "    pt = group['Patient'].iloc[0]\n",
    "    # Get all channels from iEEG portal\n",
    "    with open('woj_ieeglogin.bin', 'r') as f:\n",
    "        session = Session('wojemann', f.read())\n",
    "    ds = session.open_dataset(ieeg_name)\n",
    "    # Clean channel labels\n",
    "    raw_labels = clean_labels(ds.get_channel_labels(),pt)\n",
    "    # Remove scalp electrodes from channels\n",
    "    all_chs = remove_scalp_electrodes(raw_labels)\n",
    "\n",
    "    for _,row in group.iterrows(): # for each annotation in seizure\n",
    "        for i,v in row.items(): # for each column in annotation\n",
    "            if not isinstance(v,list): # filling in nan's as empty list to ensure formatting consistency\n",
    "                if pd.isna(v):\n",
    "                    row[i] = []\n",
    "        # Adding anntotor and patient data\n",
    "        ret[\"clinician\"].append(row.Clinician)\n",
    "        ret[\"patient\"] = row.Patient\n",
    "        # Adding UEO and Spread channel ifnormation\n",
    "        ret[\"ueo\"].append([l in clean_labels(row.UEO_ch,pt) for l in all_chs])\n",
    "        ret[\"sec\"].append([l in clean_labels(row[\"10sec_ch\"],pt) for l in all_chs])\n",
    "        # Adding anntotated start time\n",
    "        ret[\"ueo_time\"].append(float(row.UEO_time))\n",
    "        \n",
    "    # Adding in additional patient metadata to table from originnal stim seizure metadata\n",
    "    ret[\"all_chs\"] = all_chs\n",
    "    ret[\"iEEG_ID\"] = row[\"IEEGname\"]\n",
    "    ret[\"approximate_onset\"] = row[\"approximate_onset\"]\n",
    "    ret[\"offset\"] = row[\"end\"]\n",
    "    ret[\"stim\"] = row[\"stim\"]\n",
    "        \n",
    "    return pd.Series(ret)"
   ]
  },
  {
   "cell_type": "markdown",
   "metadata": {},
   "source": [
    "## Manual annotation analysis"
   ]
  },
  {
   "cell_type": "code",
   "execution_count": 9,
   "metadata": {},
   "outputs": [
    {
     "data": {
      "text/html": [
       "<div>\n",
       "<style scoped>\n",
       "    .dataframe tbody tr th:only-of-type {\n",
       "        vertical-align: middle;\n",
       "    }\n",
       "\n",
       "    .dataframe tbody tr th {\n",
       "        vertical-align: top;\n",
       "    }\n",
       "\n",
       "    .dataframe thead th {\n",
       "        text-align: right;\n",
       "    }\n",
       "</style>\n",
       "<table border=\"1\" class=\"dataframe\">\n",
       "  <thead>\n",
       "    <tr style=\"text-align: right;\">\n",
       "      <th></th>\n",
       "      <th>Seizure_ID</th>\n",
       "      <th>clinician</th>\n",
       "      <th>patient</th>\n",
       "      <th>ueo</th>\n",
       "      <th>ueo_time</th>\n",
       "      <th>sec</th>\n",
       "      <th>all_chs</th>\n",
       "      <th>iEEG_ID</th>\n",
       "      <th>approximate_onset</th>\n",
       "      <th>offset</th>\n",
       "      <th>stim</th>\n",
       "      <th>ueo_consensus</th>\n",
       "      <th>ueo_any</th>\n",
       "      <th>ueo_time_consensus</th>\n",
       "      <th>sec_consensus</th>\n",
       "      <th>sec_any</th>\n",
       "    </tr>\n",
       "  </thead>\n",
       "  <tbody>\n",
       "    <tr>\n",
       "      <th>0</th>\n",
       "      <td>CHOP005_1</td>\n",
       "      <td>[CK, JJ, JK]</td>\n",
       "      <td>CHOP005</td>\n",
       "      <td>[[False, False, False, False, False, False, Fa...</td>\n",
       "      <td>[68881.44, 68881.52, 68881.26]</td>\n",
       "      <td>[[False, False, False, False, False, False, Fa...</td>\n",
       "      <td>[LA01, LA10, LA02, LA03, LA04, LA05, LA06, LA0...</td>\n",
       "      <td>CHOP005</td>\n",
       "      <td>68881.53</td>\n",
       "      <td>68944.57</td>\n",
       "      <td>1.0</td>\n",
       "      <td>[False, False, False, False, False, False, Fal...</td>\n",
       "      <td>[False, False, False, False, False, False, Fal...</td>\n",
       "      <td>68881.44</td>\n",
       "      <td>[False, False, False, False, False, False, Fal...</td>\n",
       "      <td>[False, False, False, False, False, False, Fal...</td>\n",
       "    </tr>\n",
       "    <tr>\n",
       "      <th>1</th>\n",
       "      <td>CHOP010_1</td>\n",
       "      <td>[DZ, EC, JK]</td>\n",
       "      <td>CHOP010</td>\n",
       "      <td>[[False, False, False, False, False, False, Fa...</td>\n",
       "      <td>[2232.773277, 2232.6, 2232.77]</td>\n",
       "      <td>[[False, False, False, False, False, False, Fa...</td>\n",
       "      <td>[LA01, LA02, LA03, LA04, LA05, LA06, LA07, LA0...</td>\n",
       "      <td>CHOPCCEP_010</td>\n",
       "      <td>2230.26</td>\n",
       "      <td>2267.78</td>\n",
       "      <td>1.0</td>\n",
       "      <td>[False, False, False, False, False, False, Fal...</td>\n",
       "      <td>[False, False, False, False, False, False, Fal...</td>\n",
       "      <td>2232.77</td>\n",
       "      <td>[False, False, False, False, False, False, Fal...</td>\n",
       "      <td>[False, False, False, False, False, False, Fal...</td>\n",
       "    </tr>\n",
       "    <tr>\n",
       "      <th>2</th>\n",
       "      <td>CHOP015_1</td>\n",
       "      <td>[CK, JJ, JK]</td>\n",
       "      <td>CHOP015</td>\n",
       "      <td>[[False, False, False, False, False, False, Fa...</td>\n",
       "      <td>[77180.36, 77180.95, 77190.4]</td>\n",
       "      <td>[[False, False, False, False, False, False, Fa...</td>\n",
       "      <td>[LA01, LA02, LA03, LA04, LA05, LA06, LA07, LA0...</td>\n",
       "      <td>CHOPCCEP_015</td>\n",
       "      <td>77190.79</td>\n",
       "      <td>77225.07</td>\n",
       "      <td>1.0</td>\n",
       "      <td>[False, False, False, False, False, False, Fal...</td>\n",
       "      <td>[False, False, False, False, False, False, Fal...</td>\n",
       "      <td>77180.95</td>\n",
       "      <td>[False, False, False, False, False, False, Fal...</td>\n",
       "      <td>[False, False, False, False, False, False, Fal...</td>\n",
       "    </tr>\n",
       "    <tr>\n",
       "      <th>3</th>\n",
       "      <td>CHOP015_2</td>\n",
       "      <td>[CK, JJ, JK]</td>\n",
       "      <td>CHOP015</td>\n",
       "      <td>[[False, False, False, False, False, False, Fa...</td>\n",
       "      <td>[81584.13, 81587.68, 81587.23]</td>\n",
       "      <td>[[False, False, False, True, True, False, Fals...</td>\n",
       "      <td>[LA01, LA02, LA03, LA04, LA05, LA06, LA07, LA0...</td>\n",
       "      <td>CHOPCCEP_015</td>\n",
       "      <td>81585.72</td>\n",
       "      <td>81614.99</td>\n",
       "      <td>0.0</td>\n",
       "      <td>[False, False, False, False, False, False, Fal...</td>\n",
       "      <td>[False, False, False, False, False, False, Fal...</td>\n",
       "      <td>81587.23</td>\n",
       "      <td>[False, False, False, True, True, False, False...</td>\n",
       "      <td>[False, False, True, True, True, True, False, ...</td>\n",
       "    </tr>\n",
       "    <tr>\n",
       "      <th>4</th>\n",
       "      <td>CHOP024_1</td>\n",
       "      <td>[CK, DZ, JJ]</td>\n",
       "      <td>CHOP024</td>\n",
       "      <td>[[False, False, False, False, False, False, Fa...</td>\n",
       "      <td>[87577.58, 875775.9034, 87576.74]</td>\n",
       "      <td>[[False, False, False, False, False, False, Fa...</td>\n",
       "      <td>[LA01, LA10, LA02, LA03, LA04, LA05, LA06, LA0...</td>\n",
       "      <td>CHOPCCEP_024</td>\n",
       "      <td>87579.25</td>\n",
       "      <td>87591.61</td>\n",
       "      <td>1.0</td>\n",
       "      <td>[False, False, False, False, False, False, Fal...</td>\n",
       "      <td>[False, False, False, False, False, False, Fal...</td>\n",
       "      <td>87577.58</td>\n",
       "      <td>[False, False, False, False, False, False, Fal...</td>\n",
       "      <td>[False, False, False, False, False, False, Fal...</td>\n",
       "    </tr>\n",
       "  </tbody>\n",
       "</table>\n",
       "</div>"
      ],
      "text/plain": [
       "  Seizure_ID     clinician  patient  \\\n",
       "0  CHOP005_1  [CK, JJ, JK]  CHOP005   \n",
       "1  CHOP010_1  [DZ, EC, JK]  CHOP010   \n",
       "2  CHOP015_1  [CK, JJ, JK]  CHOP015   \n",
       "3  CHOP015_2  [CK, JJ, JK]  CHOP015   \n",
       "4  CHOP024_1  [CK, DZ, JJ]  CHOP024   \n",
       "\n",
       "                                                 ueo  \\\n",
       "0  [[False, False, False, False, False, False, Fa...   \n",
       "1  [[False, False, False, False, False, False, Fa...   \n",
       "2  [[False, False, False, False, False, False, Fa...   \n",
       "3  [[False, False, False, False, False, False, Fa...   \n",
       "4  [[False, False, False, False, False, False, Fa...   \n",
       "\n",
       "                            ueo_time  \\\n",
       "0     [68881.44, 68881.52, 68881.26]   \n",
       "1     [2232.773277, 2232.6, 2232.77]   \n",
       "2      [77180.36, 77180.95, 77190.4]   \n",
       "3     [81584.13, 81587.68, 81587.23]   \n",
       "4  [87577.58, 875775.9034, 87576.74]   \n",
       "\n",
       "                                                 sec  \\\n",
       "0  [[False, False, False, False, False, False, Fa...   \n",
       "1  [[False, False, False, False, False, False, Fa...   \n",
       "2  [[False, False, False, False, False, False, Fa...   \n",
       "3  [[False, False, False, True, True, False, Fals...   \n",
       "4  [[False, False, False, False, False, False, Fa...   \n",
       "\n",
       "                                             all_chs       iEEG_ID  \\\n",
       "0  [LA01, LA10, LA02, LA03, LA04, LA05, LA06, LA0...       CHOP005   \n",
       "1  [LA01, LA02, LA03, LA04, LA05, LA06, LA07, LA0...  CHOPCCEP_010   \n",
       "2  [LA01, LA02, LA03, LA04, LA05, LA06, LA07, LA0...  CHOPCCEP_015   \n",
       "3  [LA01, LA02, LA03, LA04, LA05, LA06, LA07, LA0...  CHOPCCEP_015   \n",
       "4  [LA01, LA10, LA02, LA03, LA04, LA05, LA06, LA0...  CHOPCCEP_024   \n",
       "\n",
       "   approximate_onset    offset  stim  \\\n",
       "0           68881.53  68944.57   1.0   \n",
       "1            2230.26   2267.78   1.0   \n",
       "2           77190.79  77225.07   1.0   \n",
       "3           81585.72  81614.99   0.0   \n",
       "4           87579.25  87591.61   1.0   \n",
       "\n",
       "                                       ueo_consensus  \\\n",
       "0  [False, False, False, False, False, False, Fal...   \n",
       "1  [False, False, False, False, False, False, Fal...   \n",
       "2  [False, False, False, False, False, False, Fal...   \n",
       "3  [False, False, False, False, False, False, Fal...   \n",
       "4  [False, False, False, False, False, False, Fal...   \n",
       "\n",
       "                                             ueo_any  ueo_time_consensus  \\\n",
       "0  [False, False, False, False, False, False, Fal...            68881.44   \n",
       "1  [False, False, False, False, False, False, Fal...             2232.77   \n",
       "2  [False, False, False, False, False, False, Fal...            77180.95   \n",
       "3  [False, False, False, False, False, False, Fal...            81587.23   \n",
       "4  [False, False, False, False, False, False, Fal...            87577.58   \n",
       "\n",
       "                                       sec_consensus  \\\n",
       "0  [False, False, False, False, False, False, Fal...   \n",
       "1  [False, False, False, False, False, False, Fal...   \n",
       "2  [False, False, False, False, False, False, Fal...   \n",
       "3  [False, False, False, True, True, False, False...   \n",
       "4  [False, False, False, False, False, False, Fal...   \n",
       "\n",
       "                                             sec_any  \n",
       "0  [False, False, False, False, False, False, Fal...  \n",
       "1  [False, False, False, False, False, False, Fal...  \n",
       "2  [False, False, False, False, False, False, Fal...  \n",
       "3  [False, False, True, True, True, True, False, ...  \n",
       "4  [False, False, False, False, False, False, Fal...  "
      ]
     },
     "execution_count": 9,
     "metadata": {},
     "output_type": "execute_result"
    }
   ],
   "source": [
    "consensus_annots = pd.read_pickle(ospj(prodatapath,'stim_seizure_information_consensus.pkl'))\n",
    "consensus_annots.head()"
   ]
  },
  {
   "cell_type": "code",
   "execution_count": 10,
   "metadata": {},
   "outputs": [
    {
     "name": "stdout",
     "output_type": "stream",
     "text": [
      "27 71\n",
      "32\n"
     ]
    }
   ],
   "source": [
    "print(len(consensus_annots.patient.unique()),len(consensus_annots.Seizure_ID.unique()))\n",
    "print(consensus_annots.stim.sum().astype(int))"
   ]
  },
  {
   "cell_type": "code",
   "execution_count": 11,
   "metadata": {},
   "outputs": [],
   "source": [
    "def calculate_seizure_similarity(annots,first_annot = 'ueo_consensus', second_annot = 'ueo_consensus',paired=True):\n",
    "    annot_list = [\"kappa\",\"F1\",\"patient\",\"spont\"]\n",
    "    annot_dict = {key:[] for key in annot_list}\n",
    "    skip_pt = []\n",
    "    for pt,group in annots.groupby(\"patient\"):\n",
    "        if (sum(group.stim == 0) < 2) and paired:\n",
    "            skip_pt.append(pt)\n",
    "            continue\n",
    "        elif len(group) < 2:\n",
    "            skip_pt.append(pt)\n",
    "            continue\n",
    "        # Iterate through each seizure\n",
    "        for i in range(len(group)):\n",
    "            group.reset_index(drop=True,inplace=True)\n",
    "            ch_mask = group.loc[i,first_annot]\n",
    "            for j in range(i+1,len(group)):\n",
    "                if (group.loc[i,'stim'] == 1)  and (group.loc[j,'stim'] == 1): # skip both stim\n",
    "                    continue\n",
    "                ch_mask2 = group.loc[j,second_annot]\n",
    "                annot_dict[\"kappa\"].append(cohen_kappa_score(ch_mask,ch_mask2))\n",
    "                annot_dict[\"F1\"].append(f1_score(ch_mask,ch_mask2))\n",
    "                annot_dict[\"spont\"].append(not (group.loc[i,'stim'] == 1)  or (group.loc[j,'stim'] == 1))\n",
    "                annot_dict[\"patient\"].append(pt)\n",
    "    annot_df = pd.DataFrame(annot_dict)\n",
    "    print(f\"Skipped {skip_pt} due to insufficient spontaneous seizures\")\n",
    "    return annot_df"
   ]
  },
  {
   "cell_type": "code",
   "execution_count": 18,
   "metadata": {},
   "outputs": [],
   "source": [
    "def plot_seizure_similarity(data,agreement='F1',palette=['red','blue','purple'],annot_type='',sz_level=True):\n",
    "    def percentile_75(x):\n",
    "        return np.percentile(x,75)\n",
    "    # Define the aggregation functions\n",
    "    numeric_cols = data.select_dtypes(include='number').columns\n",
    "    non_numeric_cols = data.select_dtypes(exclude='number').columns.difference(['patient', 'spont'])\n",
    "\n",
    "    pt_data = data.groupby(['patient', 'spont']).agg(\n",
    "        {col: percentile_75 for col in numeric_cols} |\n",
    "        {col: 'max' for col in non_numeric_cols}\n",
    "    ).reset_index()\n",
    "\n",
    "    # pt_data = data.groupby([\"patient\",\"spont\"]).max().reset_index()\n",
    "    pivoted = pt_data.pivot(index='patient', columns='spont', values=agreement).reset_index()\n",
    "    plt.figure(figsize=(4.5,5))\n",
    "    if sz_level:\n",
    "        model = smf.mixedlm(\"F1 ~ C(spont)\", data, groups=\"patient\")\n",
    "        result = model.fit()\n",
    "        print(result.summary())\n",
    "        print(result.pvalues)\n",
    "\n",
    "        plot_data = data\n",
    "        plt.title(f\"Seizure-Level Seizure{annot_type} Similarity\")\n",
    "\n",
    "    else:\n",
    "        plot_data = pt_data\n",
    "        _,p = sc.stats.ttest_ind(pt_data[~pt_data.spont][agreement],pt_data[pt_data.spont][agreement])\n",
    "        d = cohens_d(pt_data[~pt_data.spont][agreement],pt_data[pt_data.spont][agreement])\n",
    "        print(f\"Wilcoxon test - p: {p}, d: {d}\")\n",
    "        plt.title(f\"Patient-Level Seizure{annot_type} Similarity\")\n",
    "\n",
    "                \n",
    "    ax = sns.pointplot(data=plot_data,x=\"spont\",y=agreement,errorbar=None,\n",
    "                markers=\"_\",linestyles=\"none\",palette=palette[:2],\n",
    "                estimator='median',\n",
    "                legend=False,\n",
    "                markersize=45,\n",
    "                linewidth=4)\n",
    "    plt.setp(ax.collections, sizes=[1000])\n",
    "    sns.swarmplot(data=plot_data,\n",
    "                x=\"spont\",\n",
    "                y=agreement,\n",
    "                alpha=.7,\n",
    "                palette = palette[:2],\n",
    "                hue='spont',\n",
    "                legend=False\n",
    "                )\n",
    "    # plt.plot(pivoted.iloc[:,-2:].T,color=palette[2],alpha=.2)\n",
    "    sns.despine()\n",
    "    plt.xticks([0,1],[\"Stimulation Induced\",\"Spontaneous\"])\n",
    "    plt.xlabel('')\n",
    "    plt.ylabel(f\"Seizure Agreement ({agreement})\")\n",
    "    "
   ]
  },
  {
   "cell_type": "markdown",
   "metadata": {},
   "source": [
    "### Channels"
   ]
  },
  {
   "cell_type": "markdown",
   "metadata": {},
   "source": [
    "#### Stim seizures localizing onset"
   ]
  },
  {
   "cell_type": "code",
   "execution_count": 19,
   "metadata": {},
   "outputs": [
    {
     "name": "stdout",
     "output_type": "stream",
     "text": [
      "Skipped ['CHOP005', 'CHOP010', 'CHOP015', 'CHOP024', 'CHOP026', 'CHOP028', 'CHOP035', 'CHOP037', 'CHOP038', 'CHOP041', 'CHOP045', 'CHOP046', 'HUP229', 'HUP246', 'HUP261'] due to insufficient spontaneous seizures\n",
      "MannwhitneyuResult(statistic=875.0, pvalue=0.0006826925806933949)\n",
      "-0.8777683120204126\n",
      "Wilcoxon test - p: 0.06250217566443511, d: -0.8010945829169329\n"
     ]
    },
    {
     "data": {
      "image/png": "[encoded data removed]",
      "text/plain": [
       "<Figure size 450x500 with 1 Axes>"
      ]
     },
     "metadata": {},
     "output_type": "display_data"
    }
   ],
   "source": [
    "channel_onset_df = calculate_seizure_similarity(consensus_annots)\n",
    "agreement='F1'\n",
    "print(sc.stats.mannwhitneyu(channel_onset_df[channel_onset_df.spont == True][agreement],channel_onset_df[channel_onset_df.spont == False][agreement]))\n",
    "print(cohens_d(channel_onset_df[channel_onset_df.spont == False][agreement],channel_onset_df[channel_onset_df.spont == True][agreement]))\n",
    "plot_seizure_similarity(channel_onset_df,annot_type=' Onset',sz_level=False)"
   ]
  },
  {
   "cell_type": "markdown",
   "metadata": {},
   "source": [
    "#### Stim seizures localizing spread channels"
   ]
  },
  {
   "cell_type": "code",
   "execution_count": 21,
   "metadata": {},
   "outputs": [
    {
     "name": "stdout",
     "output_type": "stream",
     "text": [
      "Skipped ['CHOP005', 'CHOP010', 'CHOP015', 'CHOP024', 'CHOP026', 'CHOP028', 'CHOP035', 'CHOP037', 'CHOP038', 'CHOP041', 'CHOP045', 'CHOP046', 'HUP229', 'HUP246', 'HUP261'] due to insufficient spontaneous seizures\n",
      "Wilcoxon test - p: 0.8091444216743213, d: -0.09979809305296085\n"
     ]
    },
    {
     "data": {
      "image/png": "[encoded data removed]",
      "text/plain": [
       "<Figure size 450x500 with 1 Axes>"
      ]
     },
     "metadata": {},
     "output_type": "display_data"
    }
   ],
   "source": [
    "channel_onset_df = calculate_seizure_similarity(consensus_annots,second_annot='sec_consensus')\n",
    "plot_seizure_similarity(channel_onset_df,annot_type=' Spread',sz_level=False)"
   ]
  },
  {
   "cell_type": "code",
   "execution_count": 22,
   "metadata": {},
   "outputs": [],
   "source": [
    "# channel_spread_df = calculate_seizure_similarity(consensus_annots,paired=True,second_annot='sec_consensus')\n",
    "# plt.figure(figsize=(4.5,5))\n",
    "# agreement = \"F1\"\n",
    "# ax = sns.pointplot(data=channel_spread_df,x=\"spont\",y=agreement,errorbar=None,\n",
    "#               markers=\"_\",linestyles=\"none\",palette=[\"red\",\"blue\"],\n",
    "#               estimator='median')\n",
    "# plt.setp(ax.collections, sizes=[1000])\n",
    "# sns.stripplot(data=channel_spread_df,x=\"spont\",y=agreement,palette = ['red','blue'],alpha=.2)\n",
    "\n",
    "# sns.despine()\n",
    "# plt.xticks([0,1],[\"Stimulation Induced\",\"Spontaneous\"])\n",
    "# plt.xlabel('')\n",
    "# plt.ylabel(f\"Average Agreement ({agreement})\")\n",
    "# plt.title(f\"Average Seizure-Level Seizure Onset Channel Similarity\")\n",
    "# print(sc.stats.mannwhitneyu(channel_spread_df[channel_spread_df.spont == True][agreement],channel_spread_df[channel_spread_df.spont == False][agreement]))\n",
    "# print(cohens_d(channel_spread_df[channel_spread_df.spont == False][agreement],channel_spread_df[channel_spread_df.spont == True][agreement]))"
   ]
  },
  {
   "cell_type": "markdown",
   "metadata": {},
   "source": [
    "### Regions"
   ]
  },
  {
   "cell_type": "markdown",
   "metadata": {},
   "source": [
    "#### Annotating Onsets"
   ]
  },
  {
   "cell_type": "code",
   "execution_count": 23,
   "metadata": {},
   "outputs": [],
   "source": [
    "annotations_df = pd.read_pickle(ospj(prodatapath,\"stim_seizure_information_consensus.pkl\"))\n",
    "annotations_df.sort_values('approximate_onset',inplace=True)\n",
    "pt_groups = annotations_df.groupby('patient')\n",
    "for pt,group in pt_groups:\n",
    "    region_path = get_rpath(prodatapath,pt)\n",
    "    if not ospe(region_path):\n",
    "        continue\n",
    "    electrode_regions = pd.read_pickle(region_path)\n",
    "    electrode_regions = surgical_parcellation(electrode_regions)\n",
    "    for idx,row in group.iterrows():\n",
    "        annotations_df.at[idx,'all_rs'] = np.array(electrode_regions[electrode_regions.name.isin(row['all_chs'])]['label'].unique())\n",
    "        for col in ['ueo_consensus','ueo_any','sec_consensus','sec_any']:\n",
    "            chs = np.array(row.all_chs)[row[col]]\n",
    "            electrode_locals = np.array([l for l in electrode_regions[electrode_regions.name.isin(chs)]['label'].unique() if l != 'EmptyLabel'])\n",
    "            annotations_df.at[idx,col+'_rs'] = np.array([l in electrode_locals for l in annotations_df.loc[idx,'all_rs']])\n",
    "        # annotations_df.at[idx,'all_rs'] = electrode_regions[electrode_regions.name.isin(row['all_chs'])]['label'].unique()\n",
    "annotations_df.dropna(axis=0,subset='ueo_consensus_rs',inplace=True)\n",
    "annotations_df.sort_values(['patient','iEEG_ID','approximate_onset'],inplace=True)"
   ]
  },
  {
   "cell_type": "code",
   "execution_count": 24,
   "metadata": {},
   "outputs": [
    {
     "name": "stdout",
     "output_type": "stream",
     "text": [
      "Skipped ['CHOP005', 'CHOP024', 'CHOP026', 'CHOP028', 'CHOP035', 'CHOP037', 'CHOP041', 'CHOP045', 'HUP229', 'HUP246', 'HUP261'] due to insufficient spontaneous seizures\n",
      "Wilcoxon test - p: 0.25236380168358097, d: -0.4798919055119106\n"
     ]
    },
    {
     "data": {
      "image/png": "[encoded data removed]",
      "text/plain": [
       "<Figure size 450x500 with 1 Axes>"
      ]
     },
     "metadata": {},
     "output_type": "display_data"
    }
   ],
   "source": [
    "channel_onset_df = calculate_seizure_similarity(annotations_df,first_annot='ueo_consensus_rs',second_annot='ueo_consensus_rs')\n",
    "pal = sns.color_palette('Set2')[:2][::-1] + ['grey']\n",
    "plot_seizure_similarity(channel_onset_df,annot_type=' Onset',palette=pal,agreement='F1',sz_level=False)"
   ]
  },
  {
   "cell_type": "markdown",
   "metadata": {},
   "source": [
    "#### Stim seizures localizing spread regions"
   ]
  },
  {
   "cell_type": "code",
   "execution_count": 25,
   "metadata": {},
   "outputs": [
    {
     "name": "stdout",
     "output_type": "stream",
     "text": [
      "Skipped ['CHOP005', 'CHOP024', 'CHOP026', 'CHOP028', 'CHOP035', 'CHOP037', 'CHOP041', 'CHOP045', 'HUP229', 'HUP246', 'HUP261'] due to insufficient spontaneous seizures\n",
      "Wilcoxon test - p: 0.16776014351238722, d: -0.5823690314971605\n"
     ]
    },
    {
     "data": {
      "image/png": "[encoded data removed]",
      "text/plain": [
       "<Figure size 450x500 with 1 Axes>"
      ]
     },
     "metadata": {},
     "output_type": "display_data"
    }
   ],
   "source": [
    "channel_onset_df = calculate_seizure_similarity(annotations_df,first_annot='ueo_consensus_rs',second_annot='sec_consensus_rs')\n",
    "pal = sns.color_palette('Set2')[:2][::-1] + ['grey']\n",
    "plot_seizure_similarity(channel_onset_df,annot_type=' Onset-Spread',palette=pal,agreement='F1',sz_level=False)"
   ]
  },
  {
   "cell_type": "code",
   "execution_count": null,
   "metadata": {},
   "outputs": [],
   "source": []
  },
  {
   "cell_type": "markdown",
   "metadata": {},
   "source": [
    "## All annotations"
   ]
  },
  {
   "cell_type": "markdown",
   "metadata": {},
   "source": [
    "### Creating consensus"
   ]
  },
  {
   "cell_type": "code",
   "execution_count": 18,
   "metadata": {},
   "outputs": [],
   "source": [
    "annotators = np.sort(['EC','CK','DZ','JJ','JK']) # annotator list\n",
    "time_labels = ['UEO_time'] # onset time label\n",
    "clinician_tables = {}\n",
    "for clin in annotators:\n",
    "    # Load in secondary annotation push\n",
    "    annot_table = pd.read_csv(ospj(metapath,f\"stim_seizure_annotations_{clin}.csv\"))\n",
    "    # Load in annotations from initial assessment\n",
    "    demo_table = pd.read_csv(ospj(metapath,f\"stim_seizure_information - {clin}_annotation_demo.csv\"))\n",
    "    # Unifying onset column name\n",
    "    demo_table.columns = [c if c != 'Onset' else 'approximate_onset' for c in demo_table.columns]\n",
    "    \n",
    "    # Load in additional annotations\n",
    "    \n",
    "    # Aggregating tables across clinicians and annotation sections\n",
    "    clinician_tables[clin] = []\n",
    "    clinician_tables[clin].append(annot_table)\n",
    "    clinician_tables[clin].append(demo_table)\n",
    "    if clin in ['EC','DZ']:\n",
    "        new_table = pd.read_csv(ospj(metapath,f\"stim_seizure_information - {clin}_makeup.csv\"))\n",
    "        new_table = new_table[[\"Patient\",\"IEEGname\",\"approximate_onset\",\"end\",\"stim\",\"stim_channels\",\"annotators\",\"UEO_time\",\"UEO_ch\",\"10sec_ch\"]]\n",
    "        clinician_tables[clin].append(new_table)\n",
    "\n",
    "# Organizing dataframes into a list for concatenation\n",
    "df_list = [df for l in clinician_tables.values() for df in l]\n",
    "# Getting annotator key for each DF\n",
    "# key_list = np.array([[key]*len(clinician_tables[key]) for key in clinician_tables.keys()]).flatten()\n",
    "key_list = np.array(list(itertools.chain.from_iterable([[key]*len(clinician_tables[key]) for key in clinician_tables.keys()])))\n",
    "\n",
    "# Combining DFs\n",
    "combined_df = pd.concat(df_list, keys=key_list, names=['Clinician'])\n",
    "\n",
    "# Reset index to avoid having MultiIndex\n",
    "combined_df.reset_index(inplace=True)\n",
    "\n",
    "# Drop nan rows from csv loading\n",
    "combined_df = combined_df.dropna(axis=0,how='any',subset=['UEO_ch'])\n",
    "\n",
    "# Create a unique identifier for each seizure\n",
    "combined_df['Seizure_ID'] = combined_df.groupby(['Patient', 'Clinician']).cumcount() + 1\n",
    "combined_df['Seizure_ID'] = combined_df['Patient'] + '_' + combined_df['Seizure_ID'].astype(int).astype(str)\n",
    "combined_df = combined_df.drop(['level_1'],axis=1)\n",
    "\n",
    "# Turning strings of channels to a list\n",
    "combined_df['UEO_ch'] = combined_df['UEO_ch'].str.split(',')\n",
    "combined_df['10sec_ch'] = combined_df['10sec_ch'].str.split(',')"
   ]
  },
  {
   "cell_type": "code",
   "execution_count": 19,
   "metadata": {},
   "outputs": [],
   "source": [
    "combined_tuning_annots = combined_df.groupby('Seizure_ID').apply(combine_ch_annots).reset_index()"
   ]
  },
  {
   "cell_type": "code",
   "execution_count": 20,
   "metadata": {},
   "outputs": [],
   "source": [
    "combined_tuning_annots.to_pickle(ospj(prodatapath,'raw_combined_clinician_annotations.pkl'))"
   ]
  },
  {
   "cell_type": "code",
   "execution_count": 21,
   "metadata": {},
   "outputs": [],
   "source": [
    "combined_tuning_annots = pd.read_pickle(ospj(prodatapath,'raw_combined_clinician_annotations.pkl'))"
   ]
  },
  {
   "cell_type": "code",
   "execution_count": 24,
   "metadata": {},
   "outputs": [
    {
     "data": {
      "text/plain": [
       "array(['CHOP005', 'CHOP010', 'CHOP015', 'CHOP024', 'CHOP026', 'CHOP028',\n",
       "       'CHOP035', 'CHOP037', 'CHOP038', 'CHOP041', 'CHOP045', 'CHOP046',\n",
       "       'CHOP049', 'HUP224', 'HUP225', 'HUP229', 'HUP230', 'HUP235',\n",
       "       'HUP238', 'HUP246', 'HUP247', 'HUP249', 'HUP250', 'HUP253',\n",
       "       'HUP257', 'HUP261', 'HUP263', 'HUP266', 'HUP267', 'HUP273',\n",
       "       'HUP275', 'HUP288'], dtype=object)"
      ]
     },
     "execution_count": 24,
     "metadata": {},
     "output_type": "execute_result"
    }
   ],
   "source": [
    "consensus_tuning_annots = combined_tuning_annots.apply(create_consensus,axis=1)\n",
    "consensus_tuning_annots.patient.unique()"
   ]
  },
  {
   "cell_type": "code",
   "execution_count": 26,
   "metadata": {},
   "outputs": [],
   "source": [
    "consensus_tuning_annots.to_pickle(ospj(prodatapath,\"threshold_tuning_consensus.pkl\"))"
   ]
  }
 ],
 "metadata": {
  "kernelspec": {
   "display_name": "stim-env",
   "language": "python",
   "name": "python3"
  },
  "language_info": {
   "codemirror_mode": {
    "name": "ipython",
    "version": 3
   },
   "file_extension": ".py",
   "mimetype": "text/x-python",
   "name": "python",
   "nbconvert_exporter": "python",
   "pygments_lexer": "ipython3",
   "version": "3.6.15"
  },
  "orig_nbformat": 4
 },
 "nbformat": 4,
 "nbformat_minor": 2
}
